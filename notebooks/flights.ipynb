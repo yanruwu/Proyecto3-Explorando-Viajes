{
 "cells": [
  {
   "cell_type": "markdown",
   "metadata": {},
   "source": [
    "## Flights"
   ]
  },
  {
   "cell_type": "code",
   "execution_count": 1,
   "metadata": {},
   "outputs": [
    {
     "data": {
      "text/plain": [
       "True"
      ]
     },
     "execution_count": 1,
     "metadata": {},
     "output_type": "execute_result"
    }
   ],
   "source": [
    "import sys\n",
    "import os\n",
    "import dotenv\n",
    "import pandas as pd\n",
    "\n",
    "sys.path.append(\"../src\")\n",
    "from flightfunc import main, skyID\n",
    "\n",
    "sys.path.append(\"..\")\n",
    "\n",
    "dotenv.load_dotenv()"
   ]
  },
  {
   "cell_type": "code",
   "execution_count": 2,
   "metadata": {},
   "outputs": [],
   "source": [
    "tk1 = os.getenv(\"rapidapi_token\")"
   ]
  },
  {
   "cell_type": "code",
   "execution_count": 3,
   "metadata": {},
   "outputs": [],
   "source": [
    "origin_city = \"Madrid\"\n",
    "destinations = [\"Budapest\", \"Milan\"]"
   ]
  },
  {
   "cell_type": "code",
   "execution_count": 4,
   "metadata": {},
   "outputs": [],
   "source": [
    "origin_data = skyID(origin_city, tk1)\n",
    "bud_data = skyID(destinations[0], tk1)\n",
    "mila_data = skyID(destinations[1], tk1)"
   ]
  },
  {
   "cell_type": "code",
   "execution_count": 5,
   "metadata": {},
   "outputs": [
    {
     "name": "stderr",
     "output_type": "stream",
     "text": [
      "  0%|          | 0/22 [00:00<?, ?it/s]"
     ]
    },
    {
     "name": "stderr",
     "output_type": "stream",
     "text": [
      "100%|██████████| 22/22 [00:56<00:00,  2.57s/it]\n",
      "100%|██████████| 22/22 [00:58<00:00,  2.65s/it]\n",
      "100%|██████████| 22/22 [00:58<00:00,  2.65s/it]\n",
      "100%|██████████| 22/22 [00:59<00:00,  2.72s/it]\n"
     ]
    }
   ],
   "source": [
    "final_df = await main(token=tk1, origin_data=origin_data, destinations_data=[bud_data, mila_data], adult_n=2, children_n=2)"
   ]
  },
  {
   "cell_type": "code",
   "execution_count": 7,
   "metadata": {},
   "outputs": [],
   "source": [
    "final_df[final_df[\"destination\"].str.contains(\"Budapest\")].reset_index(drop=True).to_csv(\"../datos/buda_flights.csv\")\n",
    "final_df[final_df[\"destination\"].str.contains(\"Milan\")].reset_index(drop=True).to_csv(\"../datos/mila_flights.csv\")"
   ]
  }
 ],
 "metadata": {
  "kernelspec": {
   "display_name": "travel_planner",
   "language": "python",
   "name": "python3"
  },
  "language_info": {
   "codemirror_mode": {
    "name": "ipython",
    "version": 3
   },
   "file_extension": ".py",
   "mimetype": "text/x-python",
   "name": "python",
   "nbconvert_exporter": "python",
   "pygments_lexer": "ipython3",
   "version": "3.11.9"
  }
 },
 "nbformat": 4,
 "nbformat_minor": 2
}
