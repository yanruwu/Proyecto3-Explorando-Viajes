{
 "cells": [
  {
   "cell_type": "code",
   "execution_count": 1,
   "metadata": {},
   "outputs": [],
   "source": [
    "import pandas as pd\n",
    "import sys\n",
    "\n",
    "sys.path.append(\"../src\")\n",
    "import activityfunc as act"
   ]
  },
  {
   "cell_type": "markdown",
   "metadata": {},
   "source": [
    "### Data recolection"
   ]
  },
  {
   "cell_type": "code",
   "execution_count": 2,
   "metadata": {},
   "outputs": [
    {
     "name": "stdout",
     "output_type": "stream",
     "text": [
      "Fetching URL: https://www.civitatis.com/es/budapest/?fromDate=2025-7-15&toDate=2025-7-29&page=1\n",
      "Fetching URL: https://www.civitatis.com/es/budapest/?fromDate=2025-7-01&toDate=2025-7-15&page=1\n",
      "Fetching URL: https://www.civitatis.com/es/milan/?fromDate=2025-7-01&toDate=2025-7-15&page=2\n",
      "Fetching URL: https://www.civitatis.com/es/budapest/?fromDate=2025-7-15&toDate=2025-7-29&page=2\n",
      "Fetching URL: https://www.civitatis.com/es/budapest/?fromDate=2025-7-01&toDate=2025-7-15&page=2\n",
      "Fetching URL: https://www.civitatis.com/es/milan/?fromDate=2025-7-01&toDate=2025-7-15&page=1\n",
      "Fetching URL: https://www.civitatis.com/es/milan/?fromDate=2025-7-15&toDate=2025-7-29&page=1\n",
      "Fetching URL: https://www.civitatis.com/es/milan/?fromDate=2025-7-15&toDate=2025-7-29&page=2\n",
      "Fetching URL: https://www.civitatis.com/es/budapest/?fromDate=2025-8-01&toDate=2025-8-15&page=1\n",
      "Fetching URL: https://www.civitatis.com/es/budapest/?fromDate=2025-8-01&toDate=2025-8-15&page=2\n",
      "Fetching URL: https://www.civitatis.com/es/milan/?fromDate=2025-8-01&toDate=2025-8-15&page=1\n",
      "Fetching URL: https://www.civitatis.com/es/milan/?fromDate=2025-8-01&toDate=2025-8-15&page=2\n",
      "Fetching URL: https://www.civitatis.com/es/budapest/?fromDate=2025-8-15&toDate=2025-8-29&page=1\n",
      "Fetching URL: https://www.civitatis.com/es/budapest/?fromDate=2025-8-15&toDate=2025-8-29&page=2\n",
      "Fetching URL: https://www.civitatis.com/es/milan/?fromDate=2025-8-15&toDate=2025-8-29&page=1\n",
      "Fetching URL: https://www.civitatis.com/es/milan/?fromDate=2025-8-15&toDate=2025-8-29&page=2\n"
     ]
    }
   ],
   "source": [
    "destinations = ['budapest', 'milan']\n",
    "\n",
    "if __name__ == \"__main__\":\n",
    "    final_df = act.main(destinations)\n"
   ]
  },
  {
   "cell_type": "code",
   "execution_count": 3,
   "metadata": {},
   "outputs": [],
   "source": [
    "milan_df = final_df[final_df[\"Link\"].str.contains(\"milan\", na=False)].drop_duplicates()\n",
    "budapest_df = final_df[final_df[\"Link\"].str.contains(\"budapest\", na=False)].drop_duplicates()"
   ]
  },
  {
   "cell_type": "code",
   "execution_count": 5,
   "metadata": {},
   "outputs": [],
   "source": [
    "milan_df[\"Precio\"] = act.clean_price(milan_df)\n",
    "budapest_df[\"Precio\"] = act.clean_price(budapest_df)"
   ]
  },
  {
   "cell_type": "code",
   "execution_count": 6,
   "metadata": {},
   "outputs": [
    {
     "data": {
      "text/html": [
       "<div>\n",
       "<style scoped>\n",
       "    .dataframe tbody tr th:only-of-type {\n",
       "        vertical-align: middle;\n",
       "    }\n",
       "\n",
       "    .dataframe tbody tr th {\n",
       "        vertical-align: top;\n",
       "    }\n",
       "\n",
       "    .dataframe thead th {\n",
       "        text-align: right;\n",
       "    }\n",
       "</style>\n",
       "<table border=\"1\" class=\"dataframe\">\n",
       "  <thead>\n",
       "    <tr style=\"text-align: right;\">\n",
       "      <th></th>\n",
       "      <th>Nombre</th>\n",
       "      <th>Precio</th>\n",
       "      <th>Link</th>\n",
       "      <th>Descripcion</th>\n",
       "    </tr>\n",
       "  </thead>\n",
       "  <tbody>\n",
       "    <tr>\n",
       "      <th>0</th>\n",
       "      <td>Excursión a Como y Bellagio + Paseo en barco</td>\n",
       "      <td>82.1</td>\n",
       "      <td>https://www.civitatis.com/es/milan/excursion-c...</td>\n",
       "      <td>Dos de las localidades más bonitas del norte d...</td>\n",
       "    </tr>\n",
       "    <tr>\n",
       "      <th>1</th>\n",
       "      <td>Alpes Suizos y St. Moritz en tren</td>\n",
       "      <td>149.0</td>\n",
       "      <td>https://www.civitatis.com/es/milan/excursion-a...</td>\n",
       "      <td>En esta excursión a St. Moritz haréis una de l...</td>\n",
       "    </tr>\n",
       "    <tr>\n",
       "      <th>2</th>\n",
       "      <td>Excursión al lago Como, Lugano y Bellagio</td>\n",
       "      <td>94.7</td>\n",
       "      <td>https://www.civitatis.com/es/milan/excursion-l...</td>\n",
       "      <td>En esta excursión al lago Como, Lugano y Bella...</td>\n",
       "    </tr>\n",
       "    <tr>\n",
       "      <th>3</th>\n",
       "      <td>Excursión al lago Como</td>\n",
       "      <td>82.1</td>\n",
       "      <td>https://www.civitatis.com/es/milan/excursion-l...</td>\n",
       "      <td>En esta excursión al lago Como desde Milán nos...</td>\n",
       "    </tr>\n",
       "    <tr>\n",
       "      <th>4</th>\n",
       "      <td>Excursión en tren a Venecia y Verona</td>\n",
       "      <td>149.0</td>\n",
       "      <td>https://www.civitatis.com/es/milan/excursion-v...</td>\n",
       "      <td>Esta excursión en tren a Venecia y Verona desd...</td>\n",
       "    </tr>\n",
       "  </tbody>\n",
       "</table>\n",
       "</div>"
      ],
      "text/plain": [
       "                                         Nombre  Precio  \\\n",
       "0  Excursión a Como y Bellagio + Paseo en barco    82.1   \n",
       "1             Alpes Suizos y St. Moritz en tren   149.0   \n",
       "2     Excursión al lago Como, Lugano y Bellagio    94.7   \n",
       "3                        Excursión al lago Como    82.1   \n",
       "4          Excursión en tren a Venecia y Verona   149.0   \n",
       "\n",
       "                                                Link  \\\n",
       "0  https://www.civitatis.com/es/milan/excursion-c...   \n",
       "1  https://www.civitatis.com/es/milan/excursion-a...   \n",
       "2  https://www.civitatis.com/es/milan/excursion-l...   \n",
       "3  https://www.civitatis.com/es/milan/excursion-l...   \n",
       "4  https://www.civitatis.com/es/milan/excursion-v...   \n",
       "\n",
       "                                         Descripcion  \n",
       "0  Dos de las localidades más bonitas del norte d...  \n",
       "1  En esta excursión a St. Moritz haréis una de l...  \n",
       "2  En esta excursión al lago Como, Lugano y Bella...  \n",
       "3  En esta excursión al lago Como desde Milán nos...  \n",
       "4  Esta excursión en tren a Venecia y Verona desd...  "
      ]
     },
     "execution_count": 6,
     "metadata": {},
     "output_type": "execute_result"
    }
   ],
   "source": [
    "milan_df.reset_index(drop=True).head()"
   ]
  },
  {
   "cell_type": "code",
   "execution_count": 7,
   "metadata": {},
   "outputs": [
    {
     "data": {
      "text/html": [
       "<div>\n",
       "<style scoped>\n",
       "    .dataframe tbody tr th:only-of-type {\n",
       "        vertical-align: middle;\n",
       "    }\n",
       "\n",
       "    .dataframe tbody tr th {\n",
       "        vertical-align: top;\n",
       "    }\n",
       "\n",
       "    .dataframe thead th {\n",
       "        text-align: right;\n",
       "    }\n",
       "</style>\n",
       "<table border=\"1\" class=\"dataframe\">\n",
       "  <thead>\n",
       "    <tr style=\"text-align: right;\">\n",
       "      <th></th>\n",
       "      <th>Nombre</th>\n",
       "      <th>Precio</th>\n",
       "      <th>Link</th>\n",
       "      <th>Descripcion</th>\n",
       "    </tr>\n",
       "  </thead>\n",
       "  <tbody>\n",
       "    <tr>\n",
       "      <th>0</th>\n",
       "      <td>Free tour por Budapest</td>\n",
       "      <td>0.0</td>\n",
       "      <td>https://www.civitatis.com/es/budapest/free-tou...</td>\n",
       "      <td>Nuestro free tour por Budapest es la mejor vis...</td>\n",
       "    </tr>\n",
       "    <tr>\n",
       "      <th>1</th>\n",
       "      <td>Visita guiada por la Ópera de Budapest</td>\n",
       "      <td>26.0</td>\n",
       "      <td>https://www.civitatis.com/es/budapest/visita-g...</td>\n",
       "      <td>Destapad vuestro lado más musical en esta visi...</td>\n",
       "    </tr>\n",
       "    <tr>\n",
       "      <th>2</th>\n",
       "      <td>Free tour por el Budapest histórico</td>\n",
       "      <td>0.0</td>\n",
       "      <td>https://www.civitatis.com/es/budapest/free-tou...</td>\n",
       "      <td>Recorred la parte sur de la capital húngara y ...</td>\n",
       "    </tr>\n",
       "    <tr>\n",
       "      <th>3</th>\n",
       "      <td>Free tour por el castillo de Buda</td>\n",
       "      <td>0.0</td>\n",
       "      <td>https://www.civitatis.com/es/budapest/tour-cas...</td>\n",
       "      <td>En este free tour por el castillo de Buda visi...</td>\n",
       "    </tr>\n",
       "    <tr>\n",
       "      <th>4</th>\n",
       "      <td>Tour privado por Budapest con guía en español</td>\n",
       "      <td>275.0</td>\n",
       "      <td>https://www.civitatis.com/es/budapest/tour-pri...</td>\n",
       "      <td>Reservando el tour privado tendréis un guía en...</td>\n",
       "    </tr>\n",
       "  </tbody>\n",
       "</table>\n",
       "</div>"
      ],
      "text/plain": [
       "                                          Nombre  Precio  \\\n",
       "0                         Free tour por Budapest     0.0   \n",
       "1         Visita guiada por la Ópera de Budapest    26.0   \n",
       "2            Free tour por el Budapest histórico     0.0   \n",
       "3              Free tour por el castillo de Buda     0.0   \n",
       "4  Tour privado por Budapest con guía en español   275.0   \n",
       "\n",
       "                                                Link  \\\n",
       "0  https://www.civitatis.com/es/budapest/free-tou...   \n",
       "1  https://www.civitatis.com/es/budapest/visita-g...   \n",
       "2  https://www.civitatis.com/es/budapest/free-tou...   \n",
       "3  https://www.civitatis.com/es/budapest/tour-cas...   \n",
       "4  https://www.civitatis.com/es/budapest/tour-pri...   \n",
       "\n",
       "                                         Descripcion  \n",
       "0  Nuestro free tour por Budapest es la mejor vis...  \n",
       "1  Destapad vuestro lado más musical en esta visi...  \n",
       "2  Recorred la parte sur de la capital húngara y ...  \n",
       "3  En este free tour por el castillo de Buda visi...  \n",
       "4  Reservando el tour privado tendréis un guía en...  "
      ]
     },
     "execution_count": 7,
     "metadata": {},
     "output_type": "execute_result"
    }
   ],
   "source": [
    "budapest_df.reset_index(drop=True).head()"
   ]
  },
  {
   "cell_type": "code",
   "execution_count": 8,
   "metadata": {},
   "outputs": [],
   "source": [
    "milan_df.to_csv(\"../datos/milan_act.csv\")\n",
    "budapest_df.to_csv(\"../datos/budapest_act.csv\")"
   ]
  }
 ],
 "metadata": {
  "kernelspec": {
   "display_name": "travel_planner",
   "language": "python",
   "name": "python3"
  },
  "language_info": {
   "codemirror_mode": {
    "name": "ipython",
    "version": 3
   },
   "file_extension": ".py",
   "mimetype": "text/x-python",
   "name": "python",
   "nbconvert_exporter": "python",
   "pygments_lexer": "ipython3",
   "version": "3.11.9"
  }
 },
 "nbformat": 4,
 "nbformat_minor": 2
}
