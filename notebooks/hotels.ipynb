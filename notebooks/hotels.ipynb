{
 "cells": [
  {
   "cell_type": "markdown",
   "metadata": {},
   "source": [
    "## Hotels"
   ]
  },
  {
   "cell_type": "code",
   "execution_count": 1,
   "metadata": {},
   "outputs": [
    {
     "data": {
      "text/plain": [
       "True"
      ]
     },
     "execution_count": 1,
     "metadata": {},
     "output_type": "execute_result"
    }
   ],
   "source": [
    "import sys\n",
    "import os\n",
    "import dotenv\n",
    "import requests\n",
    "import pandas as pd\n",
    "import numpy as np\n",
    "import random as rand\n",
    "from calendar import monthrange\n",
    "import asyncio\n",
    "import aiohttp\n",
    "\n",
    "\n",
    "sys.path.append(\"..\")\n",
    "\n",
    "dotenv.load_dotenv()"
   ]
  },
  {
   "cell_type": "code",
   "execution_count": 32,
   "metadata": {},
   "outputs": [],
   "source": [
    "tk1 = os.getenv('booking_token')"
   ]
  },
  {
   "cell_type": "code",
   "execution_count": 49,
   "metadata": {},
   "outputs": [],
   "source": [
    "def extract_hotel_info(hotel_data):\n",
    "    result = dict(hotel_name = [], price = [], rating = [], distance_from_center = [], acc_type = [], city = [])\n",
    "    \n",
    "    for hotel in hotel_data:\n",
    "        hotel_name = hotel.get(\"hotel_name\", np.nan)\n",
    "        price = hotel.get(\"min_total_price\", np.nan)\n",
    "        rating = hotel.get(\"review_score\", np.nan)\n",
    "        distance_from_center = hotel.get(\"distance_to_cc\", np.nan)\n",
    "        acc_type = hotel.get(\"accommodation_type_name\", np.nan)\n",
    "        city = hotel.get(\"city_trans\", np.nan)\n",
    "\n",
    "        result[\"hotel_name\"].append(hotel_name)\n",
    "        result[\"price\"].append(price)\n",
    "        result[\"rating\"].append(rating)\n",
    "        result[\"distance_from_center\"].append(distance_from_center)\n",
    "        result[\"acc_type\"].append(acc_type)\n",
    "        result[\"city\"].append(city)\n",
    "\n",
    "        df_hotel = pd.DataFrame(result)\n",
    "    return df_hotel"
   ]
  },
  {
   "cell_type": "code",
   "execution_count": 33,
   "metadata": {},
   "outputs": [],
   "source": [
    "destinations = [\"budapest\", \"milan\"]\n",
    "\n",
    "url_loc = \"https://booking-com.p.rapidapi.com/v1/hotels/locations\"\n",
    "\n",
    "headers = {\n",
    "\t\"x-rapidapi-key\": tk1,\n",
    "\t\"x-rapidapi-host\": \"booking-com.p.rapidapi.com\"\n",
    "}\n",
    "\n",
    "loc_ids = []\n",
    "\n",
    "for loc in destinations:\n",
    "    querystring = {\"locale\":\"es\",\"name\":loc}\n",
    "    response = requests.get(url_loc, headers=headers, params=querystring)\n",
    "    loc_ids.append(response.json()[0][\"dest_id\"])"
   ]
  },
  {
   "cell_type": "code",
   "execution_count": 35,
   "metadata": {},
   "outputs": [
    {
     "data": {
      "text/plain": [
       "['-850553', '-121726']"
      ]
     },
     "execution_count": 35,
     "metadata": {},
     "output_type": "execute_result"
    }
   ],
   "source": [
    "loc_ids"
   ]
  },
  {
   "cell_type": "code",
   "execution_count": null,
   "metadata": {},
   "outputs": [],
   "source": [
    "def extract_hotel_info_loc():\n",
    "    url = \"https://booking-com.p.rapidapi.com/v1/hotels/search\"\n",
    "    headers = {\n",
    "        \"x-rapidapi-key\": tk1,\n",
    "        \"x-rapidapi-host\": \"booking-com.p.rapidapi.com\"\n",
    "    }\n",
    "\n",
    "    list_df_hotel = []\n",
    "\n",
    "    children_n = 1\n",
    "    children_ages = \",\".join(rand.choices([str(a) for a in range(1,11)], k = children_n))\n",
    "\n",
    "    adult_n = 2\n",
    "    room_n = 1\n",
    "\n",
    "    for loc_id in loc_ids:\n",
    "\n",
    "\n",
    "\n",
    "        page = 1\n",
    "        trip_duration = 10\n",
    "        year = 2025\n",
    "        month = 1\n",
    "        day_in = 1\n",
    "        day_out = day_in + trip_duration-1\n",
    "\n",
    "        \n",
    "        while day_out <= monthrange(year,month)[1]:\n",
    "            date_in = pd.to_datetime(f\"{year}-{month}-{day_in}\").date()\n",
    "            date_out = pd.to_datetime(f\"{year}-{month}-{day_out}\").date()\n",
    "            print(date_in)\n",
    "\n",
    "            querystring = {\"children_ages\":children_ages,\"page_number\":page,\"adults_number\":adult_n,\"children_number\":children_n,\n",
    "                        \"room_number\":room_n,\"include_adjacency\":\"true\",\"units\":\"metric\",\n",
    "                        \"categories_filter_ids\":\"class::3,class::4,class::5\",\"checkout_date\":date_out,\n",
    "                        \"dest_id\":loc_id,\"filter_by_currency\":\"EUR\",\"dest_type\":\"city\",\"checkin_date\":date_in,\n",
    "                        \"order_by\":\"popularity\",\"locale\":\"en-gb\"}\n",
    "\n",
    "            response = requests.get(url, headers=headers, params=querystring)\n",
    "            print(response.status_code)\n",
    "            data = response.json()[\"result\"]\n",
    "            hotel_info = extract_hotel_info(data)\n",
    "\n",
    "            dias = [\"Lunes\", \"Martes\", \"Miercoles\", \"Jueves\", \"Viernes\", \"Sabado\", \"Domingo\"]\n",
    "\n",
    "            hotel_info[\"date_in\"] = date_in\n",
    "            hotel_info[\"date_out\"] = date_out\n",
    "            hotel_info[\"day_in\"] = dias[date_in.weekday()-1]\n",
    "            hotel_info[\"day_out\"] = dias[date_out.weekday()-1]\n",
    "\n",
    "            list_df_hotel.append(hotel_info)\n",
    "            print(children_ages)\n",
    "            day_in += 1\n",
    "            day_out = day_in + trip_duration-1"
   ]
  },
  {
   "cell_type": "code",
   "execution_count": null,
   "metadata": {},
   "outputs": [],
   "source": [
    "async def main(loc_ids, headers):\n",
    "    children_n = 1\n",
    "    children_ages = \",\".join(rand.choices([str(a) for a in range(1, 11)], k=children_n))\n",
    "    adult_n = 2\n",
    "    room_n = 1\n",
    "    trip_duration = 10\n",
    "    year = 2025  # You can adjust the year as needed\n",
    "\n",
    "    async with aiohttp.ClientSession() as session:\n",
    "        tasks = []\n",
    "        for loc_id in loc_ids:\n",
    "            task = extract_hotel_info_loc(session, loc_id, children_ages, adult_n, room_n, trip_duration, year)\n",
    "            tasks.append(task)\n",
    "        results = await asyncio.gather(*tasks)\n",
    "        \n",
    "        # Flatten the results into a single list of dataframes\n",
    "        list_df_hotel = [item for sublist in results for item in sublist]\n",
    "        \n",
    "        return list_df_hotel"
   ]
  },
  {
   "cell_type": "code",
   "execution_count": 170,
   "metadata": {},
   "outputs": [
    {
     "data": {
      "text/html": [
       "<div>\n",
       "<style scoped>\n",
       "    .dataframe tbody tr th:only-of-type {\n",
       "        vertical-align: middle;\n",
       "    }\n",
       "\n",
       "    .dataframe tbody tr th {\n",
       "        vertical-align: top;\n",
       "    }\n",
       "\n",
       "    .dataframe thead th {\n",
       "        text-align: right;\n",
       "    }\n",
       "</style>\n",
       "<table border=\"1\" class=\"dataframe\">\n",
       "  <thead>\n",
       "    <tr style=\"text-align: right;\">\n",
       "      <th></th>\n",
       "      <th></th>\n",
       "      <th>price</th>\n",
       "      <th>rating</th>\n",
       "    </tr>\n",
       "    <tr>\n",
       "      <th>city</th>\n",
       "      <th>day_in</th>\n",
       "      <th></th>\n",
       "      <th></th>\n",
       "    </tr>\n",
       "  </thead>\n",
       "  <tbody>\n",
       "    <tr>\n",
       "      <th rowspan=\"7\" valign=\"top\">Budapest</th>\n",
       "      <th>Domingo</th>\n",
       "      <td>1106.304393</td>\n",
       "      <td>8.522727</td>\n",
       "    </tr>\n",
       "    <tr>\n",
       "      <th>Jueves</th>\n",
       "      <td>1035.950286</td>\n",
       "      <td>8.607692</td>\n",
       "    </tr>\n",
       "    <tr>\n",
       "      <th>Lunes</th>\n",
       "      <td>1005.103657</td>\n",
       "      <td>8.512500</td>\n",
       "    </tr>\n",
       "    <tr>\n",
       "      <th>Martes</th>\n",
       "      <td>1298.115414</td>\n",
       "      <td>8.584615</td>\n",
       "    </tr>\n",
       "    <tr>\n",
       "      <th>Miercoles</th>\n",
       "      <td>1165.512577</td>\n",
       "      <td>8.745455</td>\n",
       "    </tr>\n",
       "    <tr>\n",
       "      <th>Sabado</th>\n",
       "      <td>1024.794801</td>\n",
       "      <td>8.535294</td>\n",
       "    </tr>\n",
       "    <tr>\n",
       "      <th>Viernes</th>\n",
       "      <td>994.167278</td>\n",
       "      <td>8.550000</td>\n",
       "    </tr>\n",
       "    <tr>\n",
       "      <th rowspan=\"7\" valign=\"top\">Milan</th>\n",
       "      <th>Domingo</th>\n",
       "      <td>1626.768667</td>\n",
       "      <td>8.093333</td>\n",
       "    </tr>\n",
       "    <tr>\n",
       "      <th>Jueves</th>\n",
       "      <td>1842.277692</td>\n",
       "      <td>8.257692</td>\n",
       "    </tr>\n",
       "    <tr>\n",
       "      <th>Lunes</th>\n",
       "      <td>1845.928667</td>\n",
       "      <td>8.126667</td>\n",
       "    </tr>\n",
       "    <tr>\n",
       "      <th>Martes</th>\n",
       "      <td>1850.420000</td>\n",
       "      <td>8.092000</td>\n",
       "    </tr>\n",
       "    <tr>\n",
       "      <th>Miercoles</th>\n",
       "      <td>1729.649048</td>\n",
       "      <td>8.147619</td>\n",
       "    </tr>\n",
       "    <tr>\n",
       "      <th>Sabado</th>\n",
       "      <td>1848.643077</td>\n",
       "      <td>8.207692</td>\n",
       "    </tr>\n",
       "    <tr>\n",
       "      <th>Viernes</th>\n",
       "      <td>1931.330500</td>\n",
       "      <td>8.285000</td>\n",
       "    </tr>\n",
       "  </tbody>\n",
       "</table>\n",
       "</div>"
      ],
      "text/plain": [
       "                          price    rating\n",
       "city     day_in                          \n",
       "Budapest Domingo    1106.304393  8.522727\n",
       "         Jueves     1035.950286  8.607692\n",
       "         Lunes      1005.103657  8.512500\n",
       "         Martes     1298.115414  8.584615\n",
       "         Miercoles  1165.512577  8.745455\n",
       "         Sabado     1024.794801  8.535294\n",
       "         Viernes     994.167278  8.550000\n",
       "Milan    Domingo    1626.768667  8.093333\n",
       "         Jueves     1842.277692  8.257692\n",
       "         Lunes      1845.928667  8.126667\n",
       "         Martes     1850.420000  8.092000\n",
       "         Miercoles  1729.649048  8.147619\n",
       "         Sabado     1848.643077  8.207692\n",
       "         Viernes    1931.330500  8.285000"
      ]
     },
     "execution_count": 170,
     "metadata": {},
     "output_type": "execute_result"
    }
   ],
   "source": [
    "pd.concat(list_df_hotel)[pd.concat(list_df_hotel)[\"acc_type\"] == \"Hotel\"].groupby([\"city\", \"day_in\"])[[\"price\", \"rating\"]].mean()"
   ]
  }
 ],
 "metadata": {
  "kernelspec": {
   "display_name": "travel_planner",
   "language": "python",
   "name": "python3"
  },
  "language_info": {
   "codemirror_mode": {
    "name": "ipython",
    "version": 3
   },
   "file_extension": ".py",
   "mimetype": "text/x-python",
   "name": "python",
   "nbconvert_exporter": "python",
   "pygments_lexer": "ipython3",
   "version": "3.11.9"
  }
 },
 "nbformat": 4,
 "nbformat_minor": 2
}
