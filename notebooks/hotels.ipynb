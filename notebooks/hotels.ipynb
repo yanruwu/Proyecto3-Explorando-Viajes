{
 "cells": [
  {
   "cell_type": "markdown",
   "metadata": {},
   "source": [
    "## Hotels"
   ]
  },
  {
   "cell_type": "code",
   "execution_count": 4,
   "metadata": {},
   "outputs": [
    {
     "data": {
      "text/plain": [
       "True"
      ]
     },
     "execution_count": 4,
     "metadata": {},
     "output_type": "execute_result"
    }
   ],
   "source": [
    "import sys\n",
    "import os\n",
    "import dotenv\n",
    "import pandas as pd\n",
    "\n",
    "sys.path.append(\"../src\")\n",
    "from hotelfunc import main, get_location_ids\n",
    "\n",
    "sys.path.append(\"..\")\n",
    "\n",
    "dotenv.load_dotenv()"
   ]
  },
  {
   "cell_type": "code",
   "execution_count": 5,
   "metadata": {},
   "outputs": [],
   "source": [
    "tk1 = os.getenv('rapidapi_token')"
   ]
  },
  {
   "cell_type": "code",
   "execution_count": 9,
   "metadata": {},
   "outputs": [
    {
     "name": "stdout",
     "output_type": "stream",
     "text": [
      "['-850553', '-121726']\n"
     ]
    }
   ],
   "source": [
    "destinations = [\"budapest\", \"milan\"]\n",
    "loc_ids = get_location_ids(destinations, tk1)\n",
    "print(loc_ids)"
   ]
  },
  {
   "cell_type": "code",
   "execution_count": 12,
   "metadata": {},
   "outputs": [
    {
     "name": "stderr",
     "output_type": "stream",
     "text": [
      "100%|██████████| 2/2 [00:00<?, ?it/s]\n",
      "100%|██████████| 2/2 [01:13<00:00, 36.61s/it]\n",
      "100%|██████████| 2/2 [01:15<00:00, 37.84s/it]\n"
     ]
    }
   ],
   "source": [
    "final_df = await main(loc_ids, tk1)"
   ]
  },
  {
   "cell_type": "code",
   "execution_count": 15,
   "metadata": {},
   "outputs": [],
   "source": [
    "combined_df = pd.concat(final_df)\n",
    "\n",
    "combined_df[combined_df[\"city\"] == 'Milan'].to_csv(\"../datos/accommodations_milan.csv\")\n",
    "combined_df[combined_df[\"city\"] == 'Budapest'].to_csv(\"../datos/accommodations_budapest.csv\")"
   ]
  },
  {
   "cell_type": "code",
   "execution_count": 14,
   "metadata": {},
   "outputs": [
    {
     "data": {
      "text/plain": [
       "(1760, 10)"
      ]
     },
     "execution_count": 14,
     "metadata": {},
     "output_type": "execute_result"
    }
   ],
   "source": [
    "combined_df.shape"
   ]
  }
 ],
 "metadata": {
  "kernelspec": {
   "display_name": "travel_planner",
   "language": "python",
   "name": "python3"
  },
  "language_info": {
   "codemirror_mode": {
    "name": "ipython",
    "version": 3
   },
   "file_extension": ".py",
   "mimetype": "text/x-python",
   "name": "python",
   "nbconvert_exporter": "python",
   "pygments_lexer": "ipython3",
   "version": "3.11.9"
  }
 },
 "nbformat": 4,
 "nbformat_minor": 2
}
